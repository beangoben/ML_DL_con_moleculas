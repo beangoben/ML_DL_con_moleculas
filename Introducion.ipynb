{
 "cells": [
  {
   "cell_type": "markdown",
   "metadata": {
    "ExecuteTime": {
     "end_time": "2020-04-07T13:00:31.536172Z",
     "start_time": "2020-04-07T13:00:31.532636Z"
    },
    "colab_type": "text",
    "id": "v5lACW4qovun"
   },
   "source": [
    "Download colab_utils and import\n",
    "\n",
    "\n",
    "\n",
    "<a href=\"https://colab.research.google.com/github/beangoben/gnn_workshop_riiaa/blob/master/Prediccion de Nodos con Arxiv MAG.ipynb\" target=\"_parent\"><img src=\"https://colab.research.google.com/assets/colab-badge.svg\" alt=\"Open In Colab\"/></a>\n"
   ]
  },
  {
   "cell_type": "code",
   "execution_count": null,
   "metadata": {
    "ExecuteTime": {
     "end_time": "2020-08-26T18:53:34.831956Z",
     "start_time": "2020-08-26T18:53:32.084784Z"
    },
    "colab": {
     "base_uri": "https://localhost:8080/",
     "height": 255
    },
    "colab_type": "code",
    "id": "J5HaH9Yvovuo",
    "outputId": "c7a0aacc-3b09-40ce-b670-15080dd3cb47",
    "scrolled": true
   },
   "outputs": [],
   "source": [
    "!wget https://raw.githubusercontent.com/beangoben/workshop_template/master/colab_utils.py -O colab_utils.py\n",
    "!rm -rf sample_data\n",
    "import colab_utils"
   ]
  },
  {
   "cell_type": "markdown",
   "metadata": {
    "colab_type": "text",
    "id": "dYkzGZr5ovuw"
   },
   "source": [
    "Clone github repo, install stuff"
   ]
  },
  {
   "cell_type": "code",
   "execution_count": null,
   "metadata": {
    "colab": {
     "base_uri": "https://localhost:8080/",
     "height": 1000
    },
    "colab_type": "code",
    "id": "5DA0QH4Tovux",
    "outputId": "b772dfc2-7fa7-453c-bdfe-d87bba8d1ac6"
   },
   "outputs": [],
   "source": [
    "github_repo = 'https://github.com/beangoben/gnn_workshop_riiaa'\n",
    "colab_utils.clone_repo(github_repo)\n",
    "colab_utils.conda_install_from_yaml()\n",
    "colab_utils.pip_install_from_yaml()"
   ]
  },
  {
   "cell_type": "markdown",
   "metadata": {
    "colab_type": "text",
    "id": "T-CPqE95ovu1"
   },
   "source": [
    "# Import modules\n"
   ]
  },
  {
   "cell_type": "code",
   "execution_count": null,
   "metadata": {
    "ExecuteTime": {
     "end_time": "2020-08-26T19:18:43.427661Z",
     "start_time": "2020-08-26T19:18:43.407786Z"
    },
    "colab": {
     "base_uri": "https://localhost:8080/",
     "height": 118
    },
    "colab_type": "code",
    "id": "l7xIWY9Qovu8",
    "outputId": "fd9825ca-f27e-41f1-c719-b09600b9a5b1"
   },
   "outputs": [],
   "source": [
    "import os\n",
    "from collections import OrderedDict, defaultdict\n",
    "\n",
    "import tqdm.auto as tqdm\n",
    "import colab_utils\n",
    "if colab_utils.IN_COLAB:\n",
    "    colab_utils.add_conda_dir_to_python_path()\n",
    "\n",
    "import numpy as np\n",
    "import scipy as sp\n",
    "import pandas as pd\n",
    "import matplotlib.pyplot as plt\n",
    "import seaborn as sns\n",
    "import altair as alt\n",
    "\n",
    "import sklearn\n",
    "import umap\n",
    "import tensorflow as tf\n",
    "import sonnet as snt\n",
    "import graph_nets as gn\n",
    "\n",
    "import rdkit\n",
    "import rdkit.Chem\n",
    "import rdkit.Chem.AllChem as Chem\n",
    "from rdkit.Chem import AllChem, Draw\n",
    "import rdkit.Chem.rdFingerprintGenerator as rdFP\n",
    "from rdkit.Chem.Draw import IPythonConsole\n",
    "\n",
    "colab_utils.print_module_versions([umap, tf, snt, rdkit])\n",
    "print(f'Tiene GPU? {tf.config.list_physical_devices(\"GPU\")}')\n",
    "colab_utils.matplotlib_settings()"
   ]
  },
  {
   "cell_type": "markdown",
   "metadata": {
    "colab_type": "text",
    "id": "KjDRL90MpxOV"
   },
   "source": [
    "# Data wrangling\n",
    "## Delaney solubility dataset con 🐼s"
   ]
  },
  {
   "cell_type": "code",
   "execution_count": null,
   "metadata": {
    "ExecuteTime": {
     "end_time": "2020-08-26T19:18:46.123253Z",
     "start_time": "2020-08-26T19:18:45.901029Z"
    },
    "colab": {
     "base_uri": "https://localhost:8080/",
     "height": 568
    },
    "colab_type": "code",
    "id": "SQ8JKbalphMa",
    "outputId": "0a890a9d-3902-491e-bfd0-3b40cab64d98"
   },
   "outputs": [],
   "source": [
    "df = pd.read_csv('data/delaney-processed.csv')\n",
    "df['mol'] = df['smiles'].apply(Chem.MolFromSmiles)\n",
    "print(df.shape)\n",
    "print(df.columns)\n",
    "df.head()"
   ]
  },
  {
   "cell_type": "markdown",
   "metadata": {
    "colab_type": "text",
    "id": "7LP6W_4BwrFS"
   },
   "source": [
    "## Visualizar moleculas"
   ]
  },
  {
   "cell_type": "code",
   "execution_count": null,
   "metadata": {
    "ExecuteTime": {
     "end_time": "2020-08-26T19:18:48.164988Z",
     "start_time": "2020-08-26T19:18:47.998695Z"
    },
    "colab": {
     "base_uri": "https://localhost:8080/",
     "height": 617
    },
    "colab_type": "code",
    "id": "IQk15up9wrR2",
    "outputId": "4a003f7a-0c7a-4c73-84f1-427b72f84e0d"
   },
   "outputs": [],
   "source": [
    "mols = df['mol'].sample(n=9).tolist()\n",
    "Draw.MolsToGridImage(mols)"
   ]
  },
  {
   "cell_type": "markdown",
   "metadata": {
    "colab_type": "text",
    "id": "FBgnXFTp20kr"
   },
   "source": [
    "## Construir train-test split"
   ]
  },
  {
   "cell_type": "code",
   "execution_count": null,
   "metadata": {
    "ExecuteTime": {
     "end_time": "2020-08-26T19:18:49.840048Z",
     "start_time": "2020-08-26T19:18:49.828089Z"
    },
    "colab": {
     "base_uri": "https://localhost:8080/",
     "height": 34
    },
    "colab_type": "code",
    "id": "fR49aasc20ku",
    "outputId": "f653ac5d-ea21-41d7-c212-b10f570f65f7"
   },
   "outputs": [],
   "source": [
    "indices = np.array(df.index)\n",
    "mols = np.array(df['mol'].tolist())\n",
    "train_index, test_index = sklearn.model_selection.train_test_split(indices, test_size=.20)\n",
    "mols_train, mols_test = mols[train_index], mols[test_index]\n",
    "print(len(train_index),len(test_index))"
   ]
  },
  {
   "cell_type": "markdown",
   "metadata": {
    "colab_type": "text",
    "id": "gySWPsQDuFPK"
   },
   "source": [
    "# Propiedad de interes ($y$)"
   ]
  },
  {
   "cell_type": "code",
   "execution_count": null,
   "metadata": {
    "ExecuteTime": {
     "end_time": "2020-08-26T19:18:56.892255Z",
     "start_time": "2020-08-26T19:18:56.418422Z"
    },
    "colab": {
     "base_uri": "https://localhost:8080/",
     "height": 34
    },
    "colab_type": "code",
    "id": "w5WTDbMduDnI",
    "outputId": "3dbeb101-a72e-43a8-8f40-072d04a0070e"
   },
   "outputs": [],
   "source": [
    "target = \"measured log solubility in mols per litre\"\n",
    "y_true = df[target].values.reshape(-1,1).astype(np.float32)\n",
    "y_train = y_true[train_index]\n",
    "y_test = y_true[test_index]\n",
    "print(y_train.shape, y_test.shape)\n",
    "\n",
    "sns.distplot(y_true)\n",
    "sns.distplot(y_train)"
   ]
  },
  {
   "cell_type": "markdown",
   "metadata": {},
   "source": [
    "### Extra: Preprocesador"
   ]
  },
  {
   "cell_type": "code",
   "execution_count": null,
   "metadata": {
    "ExecuteTime": {
     "end_time": "2020-08-26T19:19:11.616707Z",
     "start_time": "2020-08-26T19:19:11.208832Z"
    }
   },
   "outputs": [],
   "source": [
    "from sklearn.preprocessing import StandardScaler\n",
    "\n",
    "\n",
    "y_preproc = StandardScaler()\n",
    "y_new = y_preproc.fit_transform(y_true)\n",
    "\n",
    "sns.distplot(y_new)"
   ]
  },
  {
   "cell_type": "markdown",
   "metadata": {},
   "source": [
    "## Metricas (Que tan bien es mi modelo?)"
   ]
  },
  {
   "cell_type": "code",
   "execution_count": null,
   "metadata": {
    "ExecuteTime": {
     "end_time": "2020-08-26T19:29:08.673855Z",
     "start_time": "2020-08-26T19:29:08.660781Z"
    }
   },
   "outputs": [],
   "source": [
    "from sklearn.metrics import r2_score, mean_absolute_error\n",
    "\n",
    "\n",
    "def evaluate(y_true, y_pred, prefix=''):\n",
    "    stats = OrderedDict([(f'{prefix}MAE', mean_absolute_error(y_test,y_test)), \n",
    "                         (f'{prefix}R2', r2_score(y_test,y_test))\n",
    "                         ])\n",
    "    return stats\n",
    "\n",
    "print(evaluate(y_true, y_true))"
   ]
  },
  {
   "cell_type": "code",
   "execution_count": null,
   "metadata": {
    "ExecuteTime": {
     "end_time": "2020-08-26T19:28:22.119836Z",
     "start_time": "2020-08-26T19:28:21.785741Z"
    }
   },
   "outputs": [],
   "source": [
    "def plot_preds(y_true, y_pred):\n",
    "    plt.figure(figsize=(12,8))\n",
    "    plt.scatter(y_true, y_pred)\n",
    "    plt.legend()\n",
    "    plt.show()\n",
    "    \n",
    "plot_preds(y_true, y_true)"
   ]
  },
  {
   "cell_type": "markdown",
   "metadata": {
    "colab_type": "text",
    "id": "RF25wTpj20k5"
   },
   "source": [
    "# Inputs (x): Representaciones molecules\n",
    "\n",
    "## Representaciones topologicas (fingerprints)"
   ]
  },
  {
   "cell_type": "code",
   "execution_count": null,
   "metadata": {
    "ExecuteTime": {
     "end_time": "2020-08-26T19:19:36.436125Z",
     "start_time": "2020-08-26T19:19:30.768726Z"
    },
    "colab": {
     "base_uri": "https://localhost:8080/",
     "height": 34
    },
    "colab_type": "code",
    "id": "ZGfcsScfuLtw",
    "outputId": "6533e7eb-f9f6-4f4e-9525-75039597346b"
   },
   "outputs": [],
   "source": [
    "fps =  [Chem.GetMorganFingerprintAsBitVect(m,2,nBits=2048) for m in mols]\n",
    "fps = np.vstack(np.array(fps))\n",
    "fps_train, fps_test = fps[train_index], fps[test_index]\n",
    "print(fps_train.shape, fps_test.shape)"
   ]
  },
  {
   "cell_type": "markdown",
   "metadata": {},
   "source": [
    "## Similitud estructural"
   ]
  },
  {
   "cell_type": "code",
   "execution_count": null,
   "metadata": {
    "ExecuteTime": {
     "end_time": "2020-08-26T19:39:30.171750Z",
     "start_time": "2020-08-26T19:39:30.166458Z"
    }
   },
   "outputs": [],
   "source": [
    "import scipy.spatial.distance as spdist\n",
    "\n",
    "dist01 = spdist.jaccard(fps[0],fps[1])\n",
    "\n"
   ]
  },
  {
   "cell_type": "markdown",
   "metadata": {},
   "source": [
    "## Vecinos estructurales"
   ]
  },
  {
   "cell_type": "code",
   "execution_count": null,
   "metadata": {},
   "outputs": [],
   "source": []
  },
  {
   "cell_type": "markdown",
   "metadata": {},
   "source": [
    "## Representaciones quimo-informaticas (mordred)"
   ]
  },
  {
   "cell_type": "code",
   "execution_count": null,
   "metadata": {
    "ExecuteTime": {
     "end_time": "2020-08-26T19:27:34.441893Z",
     "start_time": "2020-08-26T19:26:37.954893Z"
    }
   },
   "outputs": [],
   "source": [
    "from mordred import Calculator, descriptors\n",
    "\n",
    "calc = Calculator(descriptors, ignore_3D=True)\n",
    "cheminfo = np.array([calc(m) for m in tqdm.tqdm(mols)])\n",
    "cheminfo_train,  cheminfo_test = cheminfo[train_index], cheminfo[test_index]\n",
    "print(cheminfo_train.shape, cheminfo_test.shape)"
   ]
  },
  {
   "cell_type": "markdown",
   "metadata": {},
   "source": [
    "## Comparativa geometrica de las representaciones"
   ]
  },
  {
   "cell_type": "code",
   "execution_count": null,
   "metadata": {
    "ExecuteTime": {
     "end_time": "2020-08-26T19:40:58.486630Z",
     "start_time": "2020-08-26T19:40:50.210529Z"
    }
   },
   "outputs": [],
   "source": [
    "from sklearn.pipeline import Pipeline\n",
    "from sklearn.decomposition import PCA\n",
    "from sklearn.preprocessing import StandardScaler\n",
    "\n",
    "pca_pipe = Pipeline([('scaler', StandardScaler()),\n",
    "                                  ('dim_reduce', PCA(2))])\n",
    "\n",
    "umap_pipe = Pipeline([('scaler', StandardScaler()),\n",
    "                                  ('dim_reduce', umap.UMAP())])\n",
    "\n",
    "\n",
    "x_umap = umap_pipe.fit_transform(fps)\n",
    "x_pca = pca_pipe.fit_transform(fps)\n",
    "\n",
    "print(x_umap.shape, x_pca.shape)"
   ]
  },
  {
   "cell_type": "code",
   "execution_count": null,
   "metadata": {
    "ExecuteTime": {
     "end_time": "2020-08-26T19:41:00.123214Z",
     "start_time": "2020-08-26T19:40:59.727615Z"
    }
   },
   "outputs": [],
   "source": [
    "plt.scatter(x_umap[:,0], x_umap[:, 1],\n",
    "            c=y_true,\n",
    "            cmap='viridis',\n",
    "            s=10, alpha=0.5)\n",
    "plt.show()"
   ]
  },
  {
   "cell_type": "code",
   "execution_count": null,
   "metadata": {
    "ExecuteTime": {
     "end_time": "2020-08-26T19:42:31.495115Z",
     "start_time": "2020-08-26T19:42:31.466473Z"
    }
   },
   "outputs": [],
   "source": [
    "vis_df = pd.DataFrame()\n",
    "vis_df['UMAP1'] = x_umap[:, 0]\n",
    "vis_df['UMAP2'] = x_umap[:, 1]\n",
    "vis_df['PC1'] = x_pca[:, 0]\n",
    "vis_df['PC2'] = x_pca[:, 1]\n",
    "vis_df['label'] = y_true.ravel()\n",
    "vis_df['index'] = np.arange(len(df))\n",
    "vis_df['name'] = df['Compound ID'].tolist()\n",
    "vis_df"
   ]
  },
  {
   "cell_type": "code",
   "execution_count": null,
   "metadata": {
    "ExecuteTime": {
     "end_time": "2020-08-26T19:44:50.009092Z",
     "start_time": "2020-08-26T19:44:49.865300Z"
    }
   },
   "outputs": [],
   "source": [
    "alt.Chart(vis_df).mark_circle(size=10).encode(\n",
    "    x='UMAP1:Q',\n",
    "    y='UMAP2:Q',\n",
    "    color=alt.Color('label:Q', scale=alt.Scale(scheme='viridis')),\n",
    "    tooltip=['label', 'index', 'name']\n",
    ").interactive()"
   ]
  },
  {
   "cell_type": "code",
   "execution_count": null,
   "metadata": {
    "ExecuteTime": {
     "end_time": "2020-08-26T19:44:30.159506Z",
     "start_time": "2020-08-26T19:44:29.943029Z"
    }
   },
   "outputs": [],
   "source": [
    "brush = alt.selection(type='interval', resolve='global')\n",
    "\n",
    "scatter1 = alt.Chart(vis_df).mark_circle(size=4).encode(\n",
    "    x='PC1:Q',\n",
    "    y='PC2:Q',\n",
    "    color = alt.condition(brush, alt.Color('label:Q', scale=alt.Scale(scheme='viridis')), alt.value('lightgray')),\n",
    "    tooltip=['label', 'index', 'name']\n",
    ").add_selection(brush)\n",
    "\n",
    "scatter2 = alt.Chart(vis_df).mark_circle(size=4).encode(\n",
    "    x='UMAP1:Q',\n",
    "    y='UMAP2:Q',\n",
    "    color = alt.condition(brush, alt.Color('label:Q'), alt.value('lightgray')),\n",
    "    tooltip=['label', 'index', 'name']\n",
    ").add_selection(brush)\n",
    "\n",
    "scatter1 | scatter2"
   ]
  },
  {
   "cell_type": "markdown",
   "metadata": {
    "colab_type": "text",
    "id": "ds14PRsSw77n"
   },
   "source": [
    "## Grafos moleculares"
   ]
  },
  {
   "cell_type": "code",
   "execution_count": null,
   "metadata": {
    "ExecuteTime": {
     "end_time": "2020-08-26T19:31:23.597277Z",
     "start_time": "2020-08-26T19:31:23.573034Z"
    },
    "colab": {},
    "colab_type": "code",
    "id": "siKwqtCzwOfV"
   },
   "outputs": [],
   "source": [
    "possible_atom_list = ['S', 'Si', 'F', 'O',\n",
    "                      'C', 'I', 'P', 'Cl', 'Br', 'N', 'Unknown']\n",
    "reference_lists = [possible_atom_list]\n",
    "\n",
    "def one_of_k_encoding(x, allowable_set):\n",
    "    if x not in allowable_set:\n",
    "        raise Exception(\"input {0} not in allowable set{1}:\".format(\n",
    "            x, allowable_set))\n",
    "    return list(map(lambda s: x == s, allowable_set))\n",
    "\n",
    "def one_of_k_encoding_unk(x, allowable_set):\n",
    "    \"\"\"Maps inputs not in the allowable set to the last element.\"\"\"\n",
    "    if x not in allowable_set:\n",
    "        x = allowable_set[-1]\n",
    "    return list(map(lambda s: x == s, allowable_set))\n",
    "\n",
    "\n",
    "def safe_index(l, e):\n",
    "    \"\"\"Gets the index of e in l, providing an index of len(l) if not found\"\"\"\n",
    "    try:\n",
    "        return l.index(e)\n",
    "    except:\n",
    "        return len(l)\n",
    "\n",
    "\n",
    "def get_feature_list(atom):\n",
    "    features[safe_index(possible_atom_list, atom.GetSymbol())]\n",
    "    return features\n",
    "\n",
    "def atom_features(atom):\n",
    "    results = one_of_k_encoding_unk(atom.GetSymbol(), possible_atom_list)\n",
    "    return np.array(results).astype(np.float32)\n",
    "\n",
    "def bond_features(bond):\n",
    "    bt = bond.GetBondType()\n",
    "    bond_feats = [\n",
    "        bt == Chem.rdchem.BondType.SINGLE, bt == Chem.rdchem.BondType.DOUBLE,\n",
    "        bt == Chem.rdchem.BondType.TRIPLE, bt == Chem.rdchem.BondType.AROMATIC]\n",
    "    return np.array(bond_feats).astype(np.float32)\n",
    "\n",
    "def get_bond_pair(mol):\n",
    "    bonds = mol.GetBonds()\n",
    "    res = [[], []]\n",
    "    n_atoms = mol.GetNumAtoms()\n",
    "    adj = np.zeros((n_atoms,n_atoms))\n",
    "    for bond in bonds:\n",
    "        res[0] += [bond.GetBeginAtomIdx()]\n",
    "        res[1] += [bond.GetEndAtomIdx()]\n",
    "        adj[bond.GetBeginAtomIdx(),bond.GetEndAtomIdx()]=1\n",
    "        adj[bond.GetEndAtomIdx(),bond.GetBeginAtomIdx()]=1\n",
    "\n",
    "    return res, adj\n",
    "\n",
    "\n",
    "def mol2graph_data(mol):\n",
    "    atoms = mol.GetAtoms()\n",
    "    bonds = mol.GetBonds()\n",
    "    node_f = [atom_features(atom) for atom in atoms]\n",
    "    edge_index, adj = get_bond_pair(mol)\n",
    "    edge_f = [bond_features(bond) for bond in bonds]\n",
    "    return np.stack(node_f),np.stack(edge_index).T,np.stack(edge_f), adj\n",
    "\n",
    "\n",
    "def n_atom_features():\n",
    "    atom = Chem.MolFromSmiles('C').GetAtomWithIdx(0)\n",
    "    return len(atom_features(atom))\n",
    "\n",
    "\n",
    "def n_bond_features():\n",
    "    bond = Chem.MolFromSmiles('CC').GetBondWithIdx(0)\n",
    "    return len(bond_features(bond))"
   ]
  },
  {
   "cell_type": "code",
   "execution_count": null,
   "metadata": {
    "ExecuteTime": {
     "end_time": "2020-08-26T19:31:29.724130Z",
     "start_time": "2020-08-26T19:31:25.283505Z"
    },
    "colab": {},
    "colab_type": "code",
    "id": "jA5o8iZzxQji"
   },
   "outputs": [],
   "source": [
    "def mol_to_datatdict(mol):\n",
    "  mol = df['mol'].iloc[0]\n",
    "  nodes = np.array([atom_features(atom) for atom in mol.GetAtoms()])\n",
    "  edges = []\n",
    "  for bond in mol.GetBonds():\n",
    "    edges.append(bond_features(bond))\n",
    "    edges.append(bond_features(bond))\n",
    "  edges = np.array(edges)\n",
    "  senders = []\n",
    "  receivers = []\n",
    "  for bond in mol.GetBonds():\n",
    "    senders.extend([bond.GetBeginAtomIdx(), bond.GetEndAtomIdx()])\n",
    "    receivers.extend([bond.GetEndAtomIdx(),bond.GetBeginAtomIdx()])\n",
    "\n",
    "  data_dict = {'nodes':nodes.astype(np.float32), 'edges':edges.astype(np.float32),\n",
    "              'globals':np.array([0]).astype(np.float32),\n",
    "              'senders':np.array(senders),\n",
    "              'receivers':np.array(receivers)}\n",
    "  return data_dict\n",
    "\n",
    "data_dict_train = [mol_to_datatdict(mol) for mol in mols_train]\n",
    "data_dict_test = [mol_to_datatdict(mol) for mol in mols_test]\n",
    "\n",
    "x_train = gn.utils_tf.data_dicts_to_graphs_tuple(data_dict_train)\n",
    "x_test = gn.utils_tf.data_dicts_to_graphs_tuple(data_dict_test)\n",
    "x_test"
   ]
  },
  {
   "cell_type": "markdown",
   "metadata": {},
   "source": [
    "# Construir modelos\n",
    "\n",
    "## Guardar resultados para la comparativa"
   ]
  },
  {
   "cell_type": "code",
   "execution_count": 63,
   "metadata": {
    "ExecuteTime": {
     "end_time": "2020-08-26T19:53:44.729698Z",
     "start_time": "2020-08-26T19:53:44.710406Z"
    }
   },
   "outputs": [
    {
     "data": {
      "text/html": [
       "<div>\n",
       "<style scoped>\n",
       "    .dataframe tbody tr th:only-of-type {\n",
       "        vertical-align: middle;\n",
       "    }\n",
       "\n",
       "    .dataframe tbody tr th {\n",
       "        vertical-align: top;\n",
       "    }\n",
       "\n",
       "    .dataframe thead th {\n",
       "        text-align: right;\n",
       "    }\n",
       "</style>\n",
       "<table border=\"1\" class=\"dataframe\">\n",
       "  <thead>\n",
       "    <tr style=\"text-align: right;\">\n",
       "      <th></th>\n",
       "      <th>metodo</th>\n",
       "      <th>feature</th>\n",
       "      <th>MAE</th>\n",
       "      <th>R2</th>\n",
       "    </tr>\n",
       "  </thead>\n",
       "  <tbody>\n",
       "    <tr>\n",
       "      <th>0</th>\n",
       "      <td>exp</td>\n",
       "      <td>datos</td>\n",
       "      <td>0.0</td>\n",
       "      <td>1.0</td>\n",
       "    </tr>\n",
       "  </tbody>\n",
       "</table>\n",
       "</div>"
      ],
      "text/plain": [
       "  metodo feature  MAE   R2\n",
       "0    exp   datos  0.0  1.0"
      ]
     },
     "execution_count": 63,
     "metadata": {},
     "output_type": "execute_result"
    }
   ],
   "source": [
    "results = []\n",
    "\n",
    "def generar_resultado(y_true, y_pred, method, feature):\n",
    "    result = OrderedDict()\n",
    "    result['metodo'] = method\n",
    "    result['feature'] = feature\n",
    "    result.update(evaluate(y_true, y_pred))\n",
    "    return result\n",
    "    \n",
    "pd.DataFrame([generar_resultado(y_true, y_true, 'exp', 'datos')])"
   ]
  },
  {
   "cell_type": "markdown",
   "metadata": {},
   "source": [
    "## El zologico de ML con scikit-learn\n",
    "\n",
    "### Modelo lineal\n",
    "\n",
    "$$\n",
    "y = W \\cdot x + b\n",
    "$$"
   ]
  },
  {
   "cell_type": "code",
   "execution_count": null,
   "metadata": {},
   "outputs": [],
   "source": [
    "from sklearn.linear_model import LinearRegression\n",
    "\n",
    "model = LinearRegression()\n",
    "model.fit(x_train,y_train)\n",
    "y_pred = model.predict(x_train)"
   ]
  },
  {
   "cell_type": "markdown",
   "metadata": {},
   "source": [
    "## Random forest/ Gradient Boosted Trees"
   ]
  },
  {
   "cell_type": "code",
   "execution_count": null,
   "metadata": {
    "ExecuteTime": {
     "end_time": "2020-08-26T19:49:49.136458Z",
     "start_time": "2020-08-26T19:49:48.704537Z"
    }
   },
   "outputs": [],
   "source": [
    "from sklearn.ensemble import GradientBoostingRegressor\n",
    "model = GradientBoostingRegressor()\n"
   ]
  },
  {
   "cell_type": "markdown",
   "metadata": {},
   "source": [
    "## Proceso Gaussiano"
   ]
  },
  {
   "cell_type": "code",
   "execution_count": null,
   "metadata": {},
   "outputs": [],
   "source": []
  },
  {
   "cell_type": "markdown",
   "metadata": {},
   "source": [
    "## Una red neuronal con tf y sonnet\n",
    "\n",
    "Utilidades para modelos"
   ]
  },
  {
   "cell_type": "code",
   "execution_count": null,
   "metadata": {},
   "outputs": [],
   "source": [
    "def get_num_parameters(model: snt.Module, trainable: bool = True) -> int:\n",
    "  \"\"\"Numero de parametros.\"\"\"\n",
    "  variables = model.trainable_variables if trainable else model.variables\n",
    "  return int(np.sum([np.prod(v.shape) for v in variables]))\n",
    "\n",
    "\n",
    "def print_model(model: snt.Module):\n",
    "  \"\"\"Sumario de un modelo.\"\"\"\n",
    "  print(f'{model.__class__.__name__} : {model.name}\\n')\n",
    "  print(snt.format_variables(model.variables))\n",
    "  n_params = get_num_parameters(model, False)\n",
    "  trainable_params = get_num_parameters(model, True)\n",
    "  print(f'\\nParams: {trainable_params} trainable out of {n_params}')"
   ]
  },
  {
   "cell_type": "code",
   "execution_count": null,
   "metadata": {},
   "outputs": [],
   "source": [
    "model = snt.nets.MLP([10,10])\n",
    "y_pred = model(x_train)\n",
    "print_model(bloque)"
   ]
  },
  {
   "cell_type": "markdown",
   "metadata": {},
   "source": [
    "### Definir variables de optimizacion"
   ]
  },
  {
   "cell_type": "code",
   "execution_count": null,
   "metadata": {},
   "outputs": [],
   "source": [
    "NUM_ITER = 100\n",
    "optimizer = tf.optimizers.Adam(3e-4)\n",
    "metric = tf.keras.metrics.MeanAbsoluteError()\n",
    "loss_fn = tf.keras.losses.MeanSquaredError()"
   ]
  },
  {
   "cell_type": "code",
   "execution_count": 64,
   "metadata": {
    "ExecuteTime": {
     "end_time": "2020-08-26T19:56:14.718947Z",
     "start_time": "2020-08-26T19:56:14.697473Z"
    }
   },
   "outputs": [
    {
     "ename": "NameError",
     "evalue": "name 'NUM_ITER' is not defined",
     "output_type": "error",
     "traceback": [
      "\u001b[0;31m---------------------------------------------------------------------------\u001b[0m",
      "\u001b[0;31mNameError\u001b[0m                                 Traceback (most recent call last)",
      "\u001b[0;32m<ipython-input-64-0c60d0518e10>\u001b[0m in \u001b[0;36m<module>\u001b[0;34m\u001b[0m\n\u001b[0;32m----> 1\u001b[0;31m \u001b[0mpbar\u001b[0m \u001b[0;34m=\u001b[0m \u001b[0mtqdm\u001b[0m\u001b[0;34m.\u001b[0m\u001b[0mtqdm\u001b[0m\u001b[0;34m(\u001b[0m\u001b[0mrange\u001b[0m\u001b[0;34m(\u001b[0m\u001b[0mNUM_ITER\u001b[0m\u001b[0;34m)\u001b[0m\u001b[0;34m)\u001b[0m\u001b[0;34m\u001b[0m\u001b[0;34m\u001b[0m\u001b[0m\n\u001b[0m\u001b[1;32m      2\u001b[0m \u001b[0mstats\u001b[0m \u001b[0;34m=\u001b[0m \u001b[0;34m[\u001b[0m\u001b[0;34m]\u001b[0m\u001b[0;34m\u001b[0m\u001b[0;34m\u001b[0m\u001b[0m\n\u001b[1;32m      3\u001b[0m \u001b[0;34m\u001b[0m\u001b[0m\n\u001b[1;32m      4\u001b[0m \u001b[0;32mfor\u001b[0m \u001b[0mi\u001b[0m \u001b[0;32min\u001b[0m \u001b[0mpbar\u001b[0m\u001b[0;34m:\u001b[0m\u001b[0;34m\u001b[0m\u001b[0;34m\u001b[0m\u001b[0m\n\u001b[1;32m      5\u001b[0m     \u001b[0;32mwith\u001b[0m \u001b[0mtf\u001b[0m\u001b[0;34m.\u001b[0m\u001b[0mGradientTape\u001b[0m\u001b[0;34m(\u001b[0m\u001b[0;34m)\u001b[0m \u001b[0;32mas\u001b[0m \u001b[0mtape\u001b[0m\u001b[0;34m:\u001b[0m\u001b[0;34m\u001b[0m\u001b[0;34m\u001b[0m\u001b[0m\n",
      "\u001b[0;31mNameError\u001b[0m: name 'NUM_ITER' is not defined"
     ]
    }
   ],
   "source": [
    "pbar = tqdm.tqdm(range(NUM_ITER))\n",
    "stats = []\n",
    "\n",
    "for i in pbar:\n",
    "    with tf.GradientTape() as tape:\n",
    "      y_pred = model(x_train)\n",
    "      loss = loss_fn(y_train, y_pred)\n",
    "    grads = tape.gradient(loss, model.trainable_variables)\n",
    "    optimizer.apply_gradients(zip(grads, model.trainable_variables))\n",
    "    # Train statistics.\n",
    "    y_pred =  model(x_train)\n",
    "    stat = evaluate(y_train, y_pred , 'train')\n",
    "    # Test statistics.\n",
    "    y_pred =  model(x_test)\n",
    "    stat.update(evaluate(y_test, y_pred, 'test'))\n",
    "    stats.append(stat)\n",
    "    # Update progress bar.\n",
    "    pbar.set_postfix(stats[-1])\n",
    "train_df = pd.DataFrame(stats)\n",
    "train_df"
   ]
  },
  {
   "cell_type": "code",
   "execution_count": null,
   "metadata": {},
   "outputs": [],
   "source": [
    "for key in ['train_loss','test_loss']:\n",
    "    plt.plot(train_df[key])\n",
    "plt.yscale('log')\n",
    "plt.legend()\n",
    "plt.show()\n",
    "\n",
    "for key in ['train_MAE','test_MAE']:\n",
    "    plt.plot(train_df[key])\n",
    "plt.show()"
   ]
  },
  {
   "cell_type": "markdown",
   "metadata": {},
   "source": [
    "## Conseguir embeddings"
   ]
  },
  {
   "cell_type": "code",
   "execution_count": null,
   "metadata": {},
   "outputs": [],
   "source": []
  },
  {
   "cell_type": "markdown",
   "metadata": {
    "ExecuteTime": {
     "end_time": "2020-08-25T12:01:23.611610Z",
     "start_time": "2020-08-25T12:01:23.604859Z"
    },
    "colab_type": "text",
    "id": "niTCJpyi20nY"
   },
   "source": [
    "## GNN: NN en grafos"
   ]
  },
  {
   "cell_type": "markdown",
   "metadata": {
    "colab_type": "text",
    "id": "jwJpKl0_20nq"
   },
   "source": [
    "### Bloque de transformacion"
   ]
  },
  {
   "cell_type": "code",
   "execution_count": null,
   "metadata": {
    "ExecuteTime": {
     "end_time": "2020-08-25T13:20:20.483924Z",
     "start_time": "2020-08-25T13:20:20.410339Z"
    },
    "colab": {
     "base_uri": "https://localhost:8080/",
     "height": 218
    },
    "colab_type": "code",
    "id": "RL3ioPM120ns",
    "outputId": "4fc57719-28cb-4f61-c2a8-a6c2e9d25e3e"
   },
   "outputs": [],
   "source": [
    "def make_mlp_model(latent_size=32, n_layers=2, add_head=0):\n",
    "    \"\"\"Crea un MLP luego pasando por un LayerNorm y opcionalmente una capa lineal.\"\"\"\n",
    "    layers = [\n",
    "        snt.nets.MLP([latent_size] * n_layers, activate_final=True),\n",
    "        snt.LayerNorm(axis=-1, create_offset=True, create_scale=True)]\n",
    "    if add_head > 0:\n",
    "        layers.append(snt.Linear(add_head))\n",
    "    return snt.Sequential(layers)\n",
    "    \n",
    "bloque = make_mlp_model(32, 2, 0)\n",
    "bloque(x_train.nodes)\n",
    "print_model(bloque)"
   ]
  },
  {
   "cell_type": "markdown",
   "metadata": {
    "colab_type": "text",
    "id": "-ZlTXSMw20o-"
   },
   "source": [
    "### Graphnets"
   ]
  },
  {
   "cell_type": "code",
   "execution_count": null,
   "metadata": {
    "ExecuteTime": {
     "end_time": "2020-08-25T13:20:58.348518Z",
     "start_time": "2020-08-25T13:20:58.206918Z"
    },
    "colab": {
     "base_uri": "https://localhost:8080/",
     "height": 1000
    },
    "colab_type": "code",
    "id": "YzBP2BJ220o_",
    "outputId": "cceeb95d-75f2-4d18-a0a0-13da6b71aeec",
    "scrolled": true
   },
   "outputs": [],
   "source": [
    "cabeza = gn.modules.GraphIndependent(node_model_fn=lambda: snt.Linear(1))\n",
    "\n",
    "gnn_layers = [gn.modules.GraphNetwork(\n",
    "    edge_model_fn=lambda: make_mlp_model(32, 2),\n",
    "    node_model_fn=lambda: make_mlp_model(32, 2),\n",
    "    global_model_fn=lambda: make_mlp_model(32, 2)) for i in range(3)]\n",
    "\n",
    "gnn = snt.Sequential( gnn_layers + [cabeza])\n",
    "out = gnn(x_train)\n",
    "print_model(gnn)"
   ]
  },
  {
   "cell_type": "code",
   "execution_count": null,
   "metadata": {
    "ExecuteTime": {
     "end_time": "2020-08-25T13:20:59.102450Z",
     "start_time": "2020-08-25T13:20:59.069612Z"
    },
    "colab": {},
    "colab_type": "code",
    "id": "vE7TzFEo20pH"
   },
   "outputs": [],
   "source": [
    "NUM_ITER = 100\n",
    "optimizer = tf.optimizers.Adam(3e-4)\n",
    "metric = tf.keras.metrics.MeanAbsoluteError()\n",
    "loss_fn = tf.keras.losses.MeanSquaredError()\n",
    "\n",
    "\n"
   ]
  },
  {
   "cell_type": "code",
   "execution_count": null,
   "metadata": {
    "ExecuteTime": {
     "end_time": "2020-08-25T13:23:38.511258Z",
     "start_time": "2020-08-25T13:21:00.537546Z"
    },
    "colab": {
     "base_uri": "https://localhost:8080/",
     "height": 66,
     "referenced_widgets": [
      "fe45522ef61c4d0d8b48958bbb67d9ee",
      "434582bfe88a49769ad1e1ebb486ded0",
      "2eeb39b0fd3149fb8cffe75d397d4ebc",
      "83b3b4cdd8e94eeeb2186da4aa253dec",
      "7ed9b50eecb44ebc88f4c7c4153093f8",
      "f8c4240949674e83ae63f91a6fcc4474",
      "8c0e3bd75e214022989426a33d590e7b",
      "a227db178a1d42c391a07bc92721485b"
     ]
    },
    "colab_type": "code",
    "id": "ApqZ9BCQ20pY",
    "outputId": "174a3171-57e5-45ea-f650-390d33916a87",
    "scrolled": true
   },
   "outputs": [],
   "source": [
    "pbar = tqdm.tqdm(range(NUM_ITER))\n",
    "stats = []\n",
    "\n",
    "for i in pbar:\n",
    "    with tf.GradientTape() as tape:\n",
    "      y_pred = model(x_train)\n",
    "      loss = loss_fn(y_train, y_pred)\n",
    "    grads = tape.gradient(loss, gnn.trainable_variables)\n",
    "    optimizer.apply_gradients((grad, var) \n",
    "    for (grad, var) in zip(grads, gnn.trainable_variables) \n",
    "    if grad is not None)\n",
    "    # Train statistics.\n",
    "    y_pred =  gnn(x_train).globals\n",
    "    stat = evaluate(y_train, y_pred , 'train')\n",
    "    # Test statistics.\n",
    "    y_pred =  gnn(x_test).globals\n",
    "    stat.update(evaluate(y_test, y_pred, 'test'))\n",
    "    stats.append(stat)\n",
    "    # Update progress bar.\n",
    "    pbar.set_postfix(stats[-1])\n",
    "train_df = pd.DataFrame(stats)\n",
    "train_df"
   ]
  },
  {
   "cell_type": "code",
   "execution_count": null,
   "metadata": {
    "ExecuteTime": {
     "end_time": "2020-08-25T13:25:16.159004Z",
     "start_time": "2020-08-25T13:25:15.541938Z"
    },
    "colab": {
     "base_uri": "https://localhost:8080/",
     "height": 988
    },
    "colab_type": "code",
    "id": "YT2yMZ7r20pi",
    "outputId": "5f6b172f-0c9f-41be-dbe3-af58ba773ffb"
   },
   "outputs": [],
   "source": [
    "for key in ['train_loss','test_loss']:\n",
    "    plt.plot(train_df[key])\n",
    "plt.yscale('log')\n",
    "plt.legend()\n",
    "plt.show()\n",
    "\n",
    "for key in ['train_MAE','test_MAE']:\n",
    "    plt.plot(train_df[key])\n",
    "plt.show()"
   ]
  }
 ],
 "metadata": {
  "accelerator": "GPU",
  "colab": {
   "name": "Prediccion de Grafos y attribucion.ipynb",
   "provenance": [],
   "toc_visible": true
  },
  "kernelspec": {
   "display_name": "Python 3",
   "language": "python",
   "name": "python3"
  },
  "language_info": {
   "codemirror_mode": {
    "name": "ipython",
    "version": 3
   },
   "file_extension": ".py",
   "mimetype": "text/x-python",
   "name": "python",
   "nbconvert_exporter": "python",
   "pygments_lexer": "ipython3",
   "version": "3.7.7"
  },
  "toc": {
   "base_numbering": 1,
   "nav_menu": {},
   "number_sections": true,
   "sideBar": true,
   "skip_h1_title": false,
   "title_cell": "Table of Contents",
   "title_sidebar": "Contents",
   "toc_cell": false,
   "toc_position": {},
   "toc_section_display": true,
   "toc_window_display": false
  },
  "widgets": {
   "application/vnd.jupyter.widget-state+json": {
    "2eeb39b0fd3149fb8cffe75d397d4ebc": {
     "model_module": "@jupyter-widgets/controls",
     "model_name": "FloatProgressModel",
     "state": {
      "_dom_classes": [],
      "_model_module": "@jupyter-widgets/controls",
      "_model_module_version": "1.5.0",
      "_model_name": "FloatProgressModel",
      "_view_count": null,
      "_view_module": "@jupyter-widgets/controls",
      "_view_module_version": "1.5.0",
      "_view_name": "ProgressView",
      "bar_style": "success",
      "description": "100%",
      "description_tooltip": null,
      "layout": "IPY_MODEL_f8c4240949674e83ae63f91a6fcc4474",
      "max": 100,
      "min": 0,
      "orientation": "horizontal",
      "style": "IPY_MODEL_7ed9b50eecb44ebc88f4c7c4153093f8",
      "value": 100
     }
    },
    "434582bfe88a49769ad1e1ebb486ded0": {
     "model_module": "@jupyter-widgets/base",
     "model_name": "LayoutModel",
     "state": {
      "_model_module": "@jupyter-widgets/base",
      "_model_module_version": "1.2.0",
      "_model_name": "LayoutModel",
      "_view_count": null,
      "_view_module": "@jupyter-widgets/base",
      "_view_module_version": "1.2.0",
      "_view_name": "LayoutView",
      "align_content": null,
      "align_items": null,
      "align_self": null,
      "border": null,
      "bottom": null,
      "display": null,
      "flex": null,
      "flex_flow": null,
      "grid_area": null,
      "grid_auto_columns": null,
      "grid_auto_flow": null,
      "grid_auto_rows": null,
      "grid_column": null,
      "grid_gap": null,
      "grid_row": null,
      "grid_template_areas": null,
      "grid_template_columns": null,
      "grid_template_rows": null,
      "height": null,
      "justify_content": null,
      "justify_items": null,
      "left": null,
      "margin": null,
      "max_height": null,
      "max_width": null,
      "min_height": null,
      "min_width": null,
      "object_fit": null,
      "object_position": null,
      "order": null,
      "overflow": null,
      "overflow_x": null,
      "overflow_y": null,
      "padding": null,
      "right": null,
      "top": null,
      "visibility": null,
      "width": null
     }
    },
    "7ed9b50eecb44ebc88f4c7c4153093f8": {
     "model_module": "@jupyter-widgets/controls",
     "model_name": "ProgressStyleModel",
     "state": {
      "_model_module": "@jupyter-widgets/controls",
      "_model_module_version": "1.5.0",
      "_model_name": "ProgressStyleModel",
      "_view_count": null,
      "_view_module": "@jupyter-widgets/base",
      "_view_module_version": "1.2.0",
      "_view_name": "StyleView",
      "bar_color": null,
      "description_width": "initial"
     }
    },
    "83b3b4cdd8e94eeeb2186da4aa253dec": {
     "model_module": "@jupyter-widgets/controls",
     "model_name": "HTMLModel",
     "state": {
      "_dom_classes": [],
      "_model_module": "@jupyter-widgets/controls",
      "_model_module_version": "1.5.0",
      "_model_name": "HTMLModel",
      "_view_count": null,
      "_view_module": "@jupyter-widgets/controls",
      "_view_module_version": "1.5.0",
      "_view_name": "HTMLView",
      "description": "",
      "description_tooltip": null,
      "layout": "IPY_MODEL_a227db178a1d42c391a07bc92721485b",
      "placeholder": "​",
      "style": "IPY_MODEL_8c0e3bd75e214022989426a33d590e7b",
      "value": " 100/100 [00:18&lt;00:00,  5.36it/s, train_loss=4.92, train_MAE=1.79, test_loss=4.74, test_MAE=1.79]"
     }
    },
    "8c0e3bd75e214022989426a33d590e7b": {
     "model_module": "@jupyter-widgets/controls",
     "model_name": "DescriptionStyleModel",
     "state": {
      "_model_module": "@jupyter-widgets/controls",
      "_model_module_version": "1.5.0",
      "_model_name": "DescriptionStyleModel",
      "_view_count": null,
      "_view_module": "@jupyter-widgets/base",
      "_view_module_version": "1.2.0",
      "_view_name": "StyleView",
      "description_width": ""
     }
    },
    "a227db178a1d42c391a07bc92721485b": {
     "model_module": "@jupyter-widgets/base",
     "model_name": "LayoutModel",
     "state": {
      "_model_module": "@jupyter-widgets/base",
      "_model_module_version": "1.2.0",
      "_model_name": "LayoutModel",
      "_view_count": null,
      "_view_module": "@jupyter-widgets/base",
      "_view_module_version": "1.2.0",
      "_view_name": "LayoutView",
      "align_content": null,
      "align_items": null,
      "align_self": null,
      "border": null,
      "bottom": null,
      "display": null,
      "flex": null,
      "flex_flow": null,
      "grid_area": null,
      "grid_auto_columns": null,
      "grid_auto_flow": null,
      "grid_auto_rows": null,
      "grid_column": null,
      "grid_gap": null,
      "grid_row": null,
      "grid_template_areas": null,
      "grid_template_columns": null,
      "grid_template_rows": null,
      "height": null,
      "justify_content": null,
      "justify_items": null,
      "left": null,
      "margin": null,
      "max_height": null,
      "max_width": null,
      "min_height": null,
      "min_width": null,
      "object_fit": null,
      "object_position": null,
      "order": null,
      "overflow": null,
      "overflow_x": null,
      "overflow_y": null,
      "padding": null,
      "right": null,
      "top": null,
      "visibility": null,
      "width": null
     }
    },
    "f8c4240949674e83ae63f91a6fcc4474": {
     "model_module": "@jupyter-widgets/base",
     "model_name": "LayoutModel",
     "state": {
      "_model_module": "@jupyter-widgets/base",
      "_model_module_version": "1.2.0",
      "_model_name": "LayoutModel",
      "_view_count": null,
      "_view_module": "@jupyter-widgets/base",
      "_view_module_version": "1.2.0",
      "_view_name": "LayoutView",
      "align_content": null,
      "align_items": null,
      "align_self": null,
      "border": null,
      "bottom": null,
      "display": null,
      "flex": null,
      "flex_flow": null,
      "grid_area": null,
      "grid_auto_columns": null,
      "grid_auto_flow": null,
      "grid_auto_rows": null,
      "grid_column": null,
      "grid_gap": null,
      "grid_row": null,
      "grid_template_areas": null,
      "grid_template_columns": null,
      "grid_template_rows": null,
      "height": null,
      "justify_content": null,
      "justify_items": null,
      "left": null,
      "margin": null,
      "max_height": null,
      "max_width": null,
      "min_height": null,
      "min_width": null,
      "object_fit": null,
      "object_position": null,
      "order": null,
      "overflow": null,
      "overflow_x": null,
      "overflow_y": null,
      "padding": null,
      "right": null,
      "top": null,
      "visibility": null,
      "width": null
     }
    },
    "fe45522ef61c4d0d8b48958bbb67d9ee": {
     "model_module": "@jupyter-widgets/controls",
     "model_name": "HBoxModel",
     "state": {
      "_dom_classes": [],
      "_model_module": "@jupyter-widgets/controls",
      "_model_module_version": "1.5.0",
      "_model_name": "HBoxModel",
      "_view_count": null,
      "_view_module": "@jupyter-widgets/controls",
      "_view_module_version": "1.5.0",
      "_view_name": "HBoxView",
      "box_style": "",
      "children": [
       "IPY_MODEL_2eeb39b0fd3149fb8cffe75d397d4ebc",
       "IPY_MODEL_83b3b4cdd8e94eeeb2186da4aa253dec"
      ],
      "layout": "IPY_MODEL_434582bfe88a49769ad1e1ebb486ded0"
     }
    }
   }
  }
 },
 "nbformat": 4,
 "nbformat_minor": 1
}
